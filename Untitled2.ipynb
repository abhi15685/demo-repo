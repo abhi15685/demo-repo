{
  "nbformat": 4,
  "nbformat_minor": 0,
  "metadata": {
    "colab": {
      "provenance": [],
      "authorship_tag": "ABX9TyPDxCwOfqDiPsiCK0CHRXsl",
      "include_colab_link": true
    },
    "kernelspec": {
      "name": "python3",
      "display_name": "Python 3"
    },
    "language_info": {
      "name": "python"
    }
  },
  "cells": [
    {
      "cell_type": "markdown",
      "metadata": {
        "id": "view-in-github",
        "colab_type": "text"
      },
      "source": [
        "<a href=\"https://colab.research.google.com/github/abhi15685/demo-repo/blob/main/Untitled2.ipynb\" target=\"_parent\"><img src=\"https://colab.research.google.com/assets/colab-badge.svg\" alt=\"Open In Colab\"/></a>"
      ]
    },
    {
      "cell_type": "code",
      "execution_count": 1,
      "metadata": {
        "id": "Cpy8rN4wr941",
        "colab": {
          "base_uri": "https://localhost:8080/",
          "height": 366
        },
        "outputId": "06a4cabc-1f2c-483b-c4c2-dee76333d277"
      },
      "outputs": [
        {
          "output_type": "error",
          "ename": "ModuleNotFoundError",
          "evalue": "ignored",
          "traceback": [
            "\u001b[0;31m---------------------------------------------------------------------------\u001b[0m",
            "\u001b[0;31mModuleNotFoundError\u001b[0m                       Traceback (most recent call last)",
            "\u001b[0;32m<ipython-input-1-32932b92cc6c>\u001b[0m in \u001b[0;36m<cell line: 1>\u001b[0;34m()\u001b[0m\n\u001b[0;32m----> 1\u001b[0;31m \u001b[0;32mfrom\u001b[0m \u001b[0mselenium\u001b[0m\u001b[0;34m.\u001b[0m\u001b[0mcommon\u001b[0m\u001b[0;34m.\u001b[0m\u001b[0mexceptions\u001b[0m \u001b[0;32mimport\u001b[0m \u001b[0mNoSuchElementException\u001b[0m\u001b[0;34m,\u001b[0m \u001b[0mElementClickInterceptedException\u001b[0m\u001b[0;34m\u001b[0m\u001b[0;34m\u001b[0m\u001b[0m\n\u001b[0m\u001b[1;32m      2\u001b[0m \u001b[0;32mfrom\u001b[0m \u001b[0mselenium\u001b[0m \u001b[0;32mimport\u001b[0m \u001b[0mwebdriver\u001b[0m\u001b[0;34m\u001b[0m\u001b[0;34m\u001b[0m\u001b[0m\n\u001b[1;32m      3\u001b[0m \u001b[0;32mimport\u001b[0m \u001b[0mtime\u001b[0m\u001b[0;34m\u001b[0m\u001b[0;34m\u001b[0m\u001b[0m\n\u001b[1;32m      4\u001b[0m \u001b[0;32mimport\u001b[0m \u001b[0mpandas\u001b[0m \u001b[0;32mas\u001b[0m \u001b[0mpd\u001b[0m\u001b[0;34m\u001b[0m\u001b[0;34m\u001b[0m\u001b[0m\n",
            "\u001b[0;31mModuleNotFoundError\u001b[0m: No module named 'selenium'",
            "",
            "\u001b[0;31m---------------------------------------------------------------------------\u001b[0;32m\nNOTE: If your import is failing due to a missing package, you can\nmanually install dependencies using either !pip or !apt.\n\nTo view examples of installing some common dependencies, click the\n\"Open Examples\" button below.\n\u001b[0;31m---------------------------------------------------------------------------\u001b[0m\n"
          ],
          "errorDetails": {
            "actions": [
              {
                "action": "open_url",
                "actionText": "Open Examples",
                "url": "/notebooks/snippets/importing_libraries.ipynb"
              }
            ]
          }
        }
      ],
      "source": [
        "from selenium.common.exceptions import NoSuchElementException, ElementClickInterceptedException\n",
        "from selenium import webdriver\n",
        "import time\n",
        "import pandas as pd"
      ]
    },
    {
      "cell_type": "code",
      "source": [
        "pip install selenium"
      ],
      "metadata": {
        "colab": {
          "base_uri": "https://localhost:8080/"
        },
        "id": "apydiqKtJLBk",
        "outputId": "21c62c13-4f55-4230-bf1b-cfea6fc3dcd7"
      },
      "execution_count": 2,
      "outputs": [
        {
          "output_type": "stream",
          "name": "stdout",
          "text": [
            "Collecting selenium\n",
            "  Downloading selenium-4.12.0-py3-none-any.whl (9.4 MB)\n",
            "\u001b[2K     \u001b[90m━━━━━━━━━━━━━━━━━━━━━━━━━━━━━━━━━━━━━━━━\u001b[0m \u001b[32m9.4/9.4 MB\u001b[0m \u001b[31m16.9 MB/s\u001b[0m eta \u001b[36m0:00:00\u001b[0m\n",
            "\u001b[?25hRequirement already satisfied: urllib3[socks]<3,>=1.26 in /usr/local/lib/python3.10/dist-packages (from selenium) (2.0.4)\n",
            "Collecting trio~=0.17 (from selenium)\n",
            "  Downloading trio-0.22.2-py3-none-any.whl (400 kB)\n",
            "\u001b[2K     \u001b[90m━━━━━━━━━━━━━━━━━━━━━━━━━━━━━━━━━━━━━━\u001b[0m \u001b[32m400.2/400.2 kB\u001b[0m \u001b[31m28.4 MB/s\u001b[0m eta \u001b[36m0:00:00\u001b[0m\n",
            "\u001b[?25hCollecting trio-websocket~=0.9 (from selenium)\n",
            "  Downloading trio_websocket-0.10.4-py3-none-any.whl (17 kB)\n",
            "Requirement already satisfied: certifi>=2021.10.8 in /usr/local/lib/python3.10/dist-packages (from selenium) (2023.7.22)\n",
            "Requirement already satisfied: attrs>=20.1.0 in /usr/local/lib/python3.10/dist-packages (from trio~=0.17->selenium) (23.1.0)\n",
            "Requirement already satisfied: sortedcontainers in /usr/local/lib/python3.10/dist-packages (from trio~=0.17->selenium) (2.4.0)\n",
            "Requirement already satisfied: idna in /usr/local/lib/python3.10/dist-packages (from trio~=0.17->selenium) (3.4)\n",
            "Collecting outcome (from trio~=0.17->selenium)\n",
            "  Downloading outcome-1.2.0-py2.py3-none-any.whl (9.7 kB)\n",
            "Requirement already satisfied: sniffio in /usr/local/lib/python3.10/dist-packages (from trio~=0.17->selenium) (1.3.0)\n",
            "Requirement already satisfied: exceptiongroup>=1.0.0rc9 in /usr/local/lib/python3.10/dist-packages (from trio~=0.17->selenium) (1.1.3)\n",
            "Collecting wsproto>=0.14 (from trio-websocket~=0.9->selenium)\n",
            "  Downloading wsproto-1.2.0-py3-none-any.whl (24 kB)\n",
            "Requirement already satisfied: pysocks!=1.5.7,<2.0,>=1.5.6 in /usr/local/lib/python3.10/dist-packages (from urllib3[socks]<3,>=1.26->selenium) (1.7.1)\n",
            "Collecting h11<1,>=0.9.0 (from wsproto>=0.14->trio-websocket~=0.9->selenium)\n",
            "  Downloading h11-0.14.0-py3-none-any.whl (58 kB)\n",
            "\u001b[2K     \u001b[90m━━━━━━━━━━━━━━━━━━━━━━━━━━━━━━━━━━━━━━━━\u001b[0m \u001b[32m58.3/58.3 kB\u001b[0m \u001b[31m5.3 MB/s\u001b[0m eta \u001b[36m0:00:00\u001b[0m\n",
            "\u001b[?25hInstalling collected packages: outcome, h11, wsproto, trio, trio-websocket, selenium\n",
            "Successfully installed h11-0.14.0 outcome-1.2.0 selenium-4.12.0 trio-0.22.2 trio-websocket-0.10.4 wsproto-1.2.0\n"
          ]
        }
      ]
    },
    {
      "cell_type": "code",
      "source": [
        "pip install glassdoor_scraper"
      ],
      "metadata": {
        "id": "zNCejz96r4M3",
        "outputId": "3f5338d8-cac2-4a46-f5c6-3f752b97f7b1",
        "colab": {
          "base_uri": "https://localhost:8080/"
        }
      },
      "execution_count": 6,
      "outputs": [
        {
          "output_type": "stream",
          "name": "stdout",
          "text": [
            "\u001b[31mERROR: Could not find a version that satisfies the requirement glassdoor_scraper (from versions: none)\u001b[0m\u001b[31m\n",
            "\u001b[0m\u001b[31mERROR: No matching distribution found for glassdoor_scraper\u001b[0m\u001b[31m\n",
            "\u001b[0m"
          ]
        }
      ]
    },
    {
      "cell_type": "code",
      "source": [
        "from selenium.common.exceptions import NoSuchElementException, ElementClickInterceptedException\n",
        "from selenium import webdriver\n",
        "import time\n",
        "import pandas as pd"
      ],
      "metadata": {
        "id": "kOn_Waj4KTzV"
      },
      "execution_count": 3,
      "outputs": []
    },
    {
      "cell_type": "code",
      "source": [
        "import glassdoor_scraper as gs\n",
        "import pandas as pd\n",
        "path = \"C:/Users/ABHINAW/ds_salary_proj/chromedriver\"\n",
        "df = gs.get_jobs('data scientist',15, false, path, 15)"
      ],
      "metadata": {
        "id": "eCfGo4jum2wt",
        "outputId": "76ee95bd-b956-49c9-9720-be0c321cb7f9",
        "colab": {
          "base_uri": "https://localhost:8080/",
          "height": 366
        }
      },
      "execution_count": 4,
      "outputs": [
        {
          "output_type": "error",
          "ename": "ModuleNotFoundError",
          "evalue": "ignored",
          "traceback": [
            "\u001b[0;31m---------------------------------------------------------------------------\u001b[0m",
            "\u001b[0;31mModuleNotFoundError\u001b[0m                       Traceback (most recent call last)",
            "\u001b[0;32m<ipython-input-4-164ffe87b269>\u001b[0m in \u001b[0;36m<cell line: 1>\u001b[0;34m()\u001b[0m\n\u001b[0;32m----> 1\u001b[0;31m \u001b[0;32mimport\u001b[0m \u001b[0mglassdoor_scraper\u001b[0m \u001b[0;32mas\u001b[0m \u001b[0mgs\u001b[0m\u001b[0;34m\u001b[0m\u001b[0;34m\u001b[0m\u001b[0m\n\u001b[0m\u001b[1;32m      2\u001b[0m \u001b[0;32mimport\u001b[0m \u001b[0mpandas\u001b[0m \u001b[0;32mas\u001b[0m \u001b[0mpd\u001b[0m\u001b[0;34m\u001b[0m\u001b[0;34m\u001b[0m\u001b[0m\n\u001b[1;32m      3\u001b[0m \u001b[0mpath\u001b[0m \u001b[0;34m=\u001b[0m \u001b[0;34m\"C:/Users/ABHINAW/ds_salary_proj/chromedriver\"\u001b[0m\u001b[0;34m\u001b[0m\u001b[0;34m\u001b[0m\u001b[0m\n\u001b[1;32m      4\u001b[0m \u001b[0mdf\u001b[0m \u001b[0;34m=\u001b[0m \u001b[0mgs\u001b[0m\u001b[0;34m.\u001b[0m\u001b[0mget_jobs\u001b[0m\u001b[0;34m(\u001b[0m\u001b[0;34m'data scientist'\u001b[0m\u001b[0;34m,\u001b[0m\u001b[0;36m15\u001b[0m\u001b[0;34m,\u001b[0m \u001b[0mfalse\u001b[0m\u001b[0;34m,\u001b[0m \u001b[0mpath\u001b[0m\u001b[0;34m,\u001b[0m \u001b[0;36m15\u001b[0m\u001b[0;34m)\u001b[0m\u001b[0;34m\u001b[0m\u001b[0;34m\u001b[0m\u001b[0m\n",
            "\u001b[0;31mModuleNotFoundError\u001b[0m: No module named 'glassdoor_scraper'",
            "",
            "\u001b[0;31m---------------------------------------------------------------------------\u001b[0;32m\nNOTE: If your import is failing due to a missing package, you can\nmanually install dependencies using either !pip or !apt.\n\nTo view examples of installing some common dependencies, click the\n\"Open Examples\" button below.\n\u001b[0;31m---------------------------------------------------------------------------\u001b[0m\n"
          ],
          "errorDetails": {
            "actions": [
              {
                "action": "open_url",
                "actionText": "Open Examples",
                "url": "/notebooks/snippets/importing_libraries.ipynb"
              }
            ]
          }
        }
      ]
    },
    {
      "cell_type": "code",
      "source": [
        "def get_jobs(keyword, num_jobs, verbose, path, slp_time):\n",
        "\n",
        "    '''Gathers jobs as a dataframe, scraped from Glassdoor'''\n",
        "\n",
        "    #Initializing the webdriver\n",
        "    options = webdriver.ChromeOptions()\n",
        "\n",
        "    #Uncomment the line below if you'd like to scrape without a new Chrome window every time.\n",
        "    #options.add_argument('headless')\n",
        "\n",
        "    #Change the path to where chromedriver is in your home folder.\n",
        "    driver = webdriver.Chrome(executable_path=path, options=options)\n",
        "    driver.set_window_size(1120, 1000)\n",
        "\n",
        "    url = 'https://www.glassdoor.com/Job/jobs.htm?sc.keyword=\"' + keyword + '\"&locT=C&locId=1147401&locKeyword=San%20Francisco,%20CA&jobType=all&fromAge=-1&minSalary=0&includeNoSalaryJobs=true&radius=100&cityId=-1&minRating=0.0&industryId=-1&sgocId=-1&seniorityType=all&companyId=-1&employerSizes=0&applicationType=0&remoteWorkType=0'\n",
        "    driver.get(url)\n",
        "    jobs = []\n",
        "\n",
        "    while len(jobs) < num_jobs:  #If true, should be still looking for new jobs.\n",
        "\n",
        "        #Let the page load. Change this number based on your internet speed.\n",
        "        #Or, wait until the webpage is loaded, instead of hardcoding it.\n",
        "        time.sleep(slp_time)\n",
        "\n",
        "        #Test for the \"Sign Up\" prompt and get rid of it.\n",
        "        try:\n",
        "            driver.find_element_by_class_name(\"selected\").click()\n",
        "        except ElementClickInterceptedException:\n",
        "            pass\n",
        "\n",
        "        time.sleep(.1)\n",
        "\n",
        "        try:\n",
        "            driver.find_element_by_class_name(\"ModalStyle__xBtn___29PT9\").click()  #clicking to the X.\n",
        "        except NoSuchElementException:\n",
        "            pass\n",
        "\n",
        "\n",
        "        #Going through each job in this page\n",
        "        job_buttons = driver.find_elements_by_class_name(\"jl\")  #jl for Job Listing. These are the buttons we're going to click.\n",
        "        for job_button in job_buttons:\n",
        "\n",
        "            print(\"Progress: {}\".format(\"\" + str(len(jobs)) + \"/\" + str(num_jobs)))\n",
        "            if len(jobs) >= num_jobs:\n",
        "                break\n",
        "\n",
        "            job_button.click()  #You might\n",
        "            time.sleep(1)\n",
        "            collected_successfully = False\n",
        "\n",
        "            while not collected_successfully:\n",
        "                try:\n",
        "                    company_name = driver.find_element_by_xpath('.//div[@class=\"employerName\"]').text\n",
        "                    location = driver.find_element_by_xpath('.//div[@class=\"location\"]').text\n",
        "                    job_title = driver.find_element_by_xpath('.//div[contains(@class, \"title\")]').text\n",
        "                    job_description = driver.find_element_by_xpath('.//div[@class=\"jobDescriptionContent desc\"]').text\n",
        "                    collected_successfully = True\n",
        "                except:\n",
        "                    time.sleep(5)\n",
        "\n",
        "            try:\n",
        "                salary_estimate = driver.find_element_by_xpath('.//span[@class=\"gray small salary\"]').text\n",
        "            except NoSuchElementException:\n",
        "                salary_estimate = -1 #You need to set a \"not found value. It's important.\"\n",
        "\n",
        "            try:\n",
        "                rating = driver.find_element_by_xpath('.//span[@class=\"rating\"]').text\n",
        "            except NoSuchElementException:\n",
        "                rating = -1 #You need to set a \"not found value. It's important.\"\n",
        "\n",
        "            #Printing for debugging\n",
        "            if verbose:\n",
        "                print(\"Job Title: {}\".format(job_title))\n",
        "                print(\"Salary Estimate: {}\".format(salary_estimate))\n",
        "                print(\"Job Description: {}\".format(job_description[:500]))\n",
        "                print(\"Rating: {}\".format(rating))\n",
        "                print(\"Company Name: {}\".format(company_name))\n",
        "                print(\"Location: {}\".format(location))\n",
        "\n",
        "            #Going to the Company tab...\n",
        "            #clicking on this:\n",
        "            #<div class=\"tab\" data-tab-type=\"overview\"><span>Company</span></div>\n",
        "            try:\n",
        "                driver.find_element_by_xpath('.//div[@class=\"tab\" and @data-tab-type=\"overview\"]').click()\n",
        "\n",
        "                try:\n",
        "                    #<div class=\"infoEntity\">\n",
        "                    #    <label>Headquarters</label>\n",
        "                    #    <span class=\"value\">San Francisco, CA</span>\n",
        "                    #</div>\n",
        "                    headquarters = driver.find_element_by_xpath('.//div[@class=\"infoEntity\"]//label[text()=\"Headquarters\"]//following-sibling::*').text\n",
        "                except NoSuchElementException:\n",
        "                    headquarters = -1\n",
        "\n",
        "                try:\n",
        "                    size = driver.find_element_by_xpath('.//div[@class=\"infoEntity\"]//label[text()=\"Size\"]//following-sibling::*').text\n",
        "                except NoSuchElementException:\n",
        "                    size = -1\n",
        "\n",
        "                try:\n",
        "                    founded = driver.find_element_by_xpath('.//div[@class=\"infoEntity\"]//label[text()=\"Founded\"]//following-sibling::*').text\n",
        "                except NoSuchElementException:\n",
        "                    founded = -1\n",
        "\n",
        "                try:\n",
        "                    type_of_ownership = driver.find_element_by_xpath('.//div[@class=\"infoEntity\"]//label[text()=\"Type\"]//following-sibling::*').text\n",
        "                except NoSuchElementException:\n",
        "                    type_of_ownership = -1\n",
        "\n",
        "                try:\n",
        "                    industry = driver.find_element_by_xpath('.//div[@class=\"infoEntity\"]//label[text()=\"Industry\"]//following-sibling::*').text\n",
        "                except NoSuchElementException:\n",
        "                    industry = -1\n",
        "\n",
        "                try:\n",
        "                    sector = driver.find_element_by_xpath('.//div[@class=\"infoEntity\"]//label[text()=\"Sector\"]//following-sibling::*').text\n",
        "                except NoSuchElementException:\n",
        "                    sector = -1\n",
        "\n",
        "                try:\n",
        "                    revenue = driver.find_element_by_xpath('.//div[@class=\"infoEntity\"]//label[text()=\"Revenue\"]//following-sibling::*').text\n",
        "                except NoSuchElementException:\n",
        "                    revenue = -1\n",
        "\n",
        "                try:\n",
        "                    competitors = driver.find_element_by_xpath('.//div[@class=\"infoEntity\"]//label[text()=\"Competitors\"]//following-sibling::*').text\n",
        "                except NoSuchElementException:\n",
        "                    competitors = -1\n",
        "\n",
        "            except NoSuchElementException:  #Rarely, some job postings do not have the \"Company\" tab.\n",
        "                headquarters = -1\n",
        "                size = -1\n",
        "                founded = -1\n",
        "                type_of_ownership = -1\n",
        "                industry = -1\n",
        "                sector = -1\n",
        "                revenue = -1\n",
        "                competitors = -1\n",
        "\n",
        "\n",
        "            if verbose:\n",
        "                print(\"Headquarters: {}\".format(headquarters))\n",
        "                print(\"Size: {}\".format(size))\n",
        "                print(\"Founded: {}\".format(founded))\n",
        "                print(\"Type of Ownership: {}\".format(type_of_ownership))\n",
        "                print(\"Industry: {}\".format(industry))\n",
        "                print(\"Sector: {}\".format(sector))\n",
        "                print(\"Revenue: {}\".format(revenue))\n",
        "                print(\"Competitors: {}\".format(competitors))\n",
        "                print(\"@@@@@@@@@@@@@@@@@@@@@@@@@@@@@@@@@@@@@@@@@@@@@@@@@@@@\")\n",
        "\n",
        "            jobs.append({\"Job Title\" : job_title,\n",
        "            \"Salary Estimate\" : salary_estimate,\n",
        "            \"Job Description\" : job_description,\n",
        "            \"Rating\" : rating,\n",
        "            \"Company Name\" : company_name,\n",
        "            \"Location\" : location,\n",
        "            \"Headquarters\" : headquarters,\n",
        "            \"Size\" : size,\n",
        "            \"Founded\" : founded,\n",
        "            \"Type of ownership\" : type_of_ownership,\n",
        "            \"Industry\" : industry,\n",
        "            \"Sector\" : sector,\n",
        "            \"Revenue\" : revenue,\n",
        "            \"Competitors\" : competitors})\n",
        "            #add job to jobs\n",
        "\n",
        "        #Clicking on the \"next page\" button\n",
        "        try:\n",
        "            driver.find_element_by_xpath('.//li[@class=\"next\"]//a').click()\n",
        "        except NoSuchElementException:\n",
        "            print(\"Scraping terminated before reaching target number of jobs. Needed {}, got {}.\".format(num_jobs, len(jobs)))\n",
        "            break\n"
      ],
      "metadata": {
        "id": "sZvnhfPlKcsK"
      },
      "execution_count": 27,
      "outputs": []
    },
    {
      "cell_type": "code",
      "source": [
        "pip install glassdoor"
      ],
      "metadata": {
        "id": "hLSTgPo81TM5",
        "outputId": "5076fd65-d982-4768-a5d1-d8efaf7b4a4d",
        "colab": {
          "base_uri": "https://localhost:8080/"
        }
      },
      "execution_count": 18,
      "outputs": [
        {
          "output_type": "stream",
          "name": "stdout",
          "text": [
            "Collecting glassdoor\n",
            "  Using cached glassdoor-0.0.8.tar.gz (5.7 kB)\n",
            "  Preparing metadata (setup.py) ... \u001b[?25l\u001b[?25hdone\n",
            "Requirement already satisfied: requests>=1.1.0 in /usr/local/lib/python3.10/dist-packages (from glassdoor) (2.31.0)\n",
            "Collecting BeautifulSoup>=3.2.1 (from glassdoor)\n",
            "  Using cached BeautifulSoup-3.2.2.tar.gz (32 kB)\n",
            "  \u001b[1;31merror\u001b[0m: \u001b[1msubprocess-exited-with-error\u001b[0m\n",
            "  \n",
            "  \u001b[31m×\u001b[0m \u001b[32mpython setup.py egg_info\u001b[0m did not run successfully.\n",
            "  \u001b[31m│\u001b[0m exit code: \u001b[1;36m1\u001b[0m\n",
            "  \u001b[31m╰─>\u001b[0m See above for output.\n",
            "  \n",
            "  \u001b[1;35mnote\u001b[0m: This error originates from a subprocess, and is likely not a problem with pip.\n",
            "  Preparing metadata (setup.py) ... \u001b[?25l\u001b[?25herror\n",
            "\u001b[1;31merror\u001b[0m: \u001b[1mmetadata-generation-failed\u001b[0m\n",
            "\n",
            "\u001b[31m×\u001b[0m Encountered error while generating package metadata.\n",
            "\u001b[31m╰─>\u001b[0m See above for output.\n",
            "\n",
            "\u001b[1;35mnote\u001b[0m: This is an issue with the package mentioned above, not pip.\n",
            "\u001b[1;36mhint\u001b[0m: See above for details.\n"
          ]
        }
      ]
    },
    {
      "cell_type": "code",
      "source": [
        "\n",
        "import pandas as pd\n",
        "path = \"C:/Users/ABHINAW/ds_salary_proj/chromedriver\"\n",
        "df = get_jobs('data scientist', slp_time, 15, path, 15)"
      ],
      "metadata": {
        "id": "mBg9ZOJ2yyMP",
        "outputId": "ce5e62eb-e859-4256-93dc-780d8c1c917c",
        "colab": {
          "base_uri": "https://localhost:8080/",
          "height": 210
        }
      },
      "execution_count": 24,
      "outputs": [
        {
          "output_type": "error",
          "ename": "NameError",
          "evalue": "ignored",
          "traceback": [
            "\u001b[0;31m---------------------------------------------------------------------------\u001b[0m",
            "\u001b[0;31mNameError\u001b[0m                                 Traceback (most recent call last)",
            "\u001b[0;32m<ipython-input-24-03403cce9785>\u001b[0m in \u001b[0;36m<cell line: 3>\u001b[0;34m()\u001b[0m\n\u001b[1;32m      1\u001b[0m \u001b[0;32mimport\u001b[0m \u001b[0mpandas\u001b[0m \u001b[0;32mas\u001b[0m \u001b[0mpd\u001b[0m\u001b[0;34m\u001b[0m\u001b[0;34m\u001b[0m\u001b[0m\n\u001b[1;32m      2\u001b[0m \u001b[0mpath\u001b[0m \u001b[0;34m=\u001b[0m \u001b[0;34m\"C:/Users/ABHINAW/ds_salary_proj/chromedriver\"\u001b[0m\u001b[0;34m\u001b[0m\u001b[0;34m\u001b[0m\u001b[0m\n\u001b[0;32m----> 3\u001b[0;31m \u001b[0mdf\u001b[0m \u001b[0;34m=\u001b[0m \u001b[0mget_jobs\u001b[0m\u001b[0;34m(\u001b[0m\u001b[0;34m'data scientist'\u001b[0m\u001b[0;34m,\u001b[0m \u001b[0mslp_time\u001b[0m\u001b[0;34m,\u001b[0m \u001b[0;36m15\u001b[0m\u001b[0;34m,\u001b[0m \u001b[0mpath\u001b[0m\u001b[0;34m,\u001b[0m \u001b[0;36m15\u001b[0m\u001b[0;34m)\u001b[0m\u001b[0;34m\u001b[0m\u001b[0;34m\u001b[0m\u001b[0m\n\u001b[0m",
            "\u001b[0;31mNameError\u001b[0m: name 'slp_time' is not defined"
          ]
        }
      ]
    }
  ]
}